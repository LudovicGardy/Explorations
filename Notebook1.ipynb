{
 "cells": [
  {
   "cell_type": "markdown",
   "metadata": {},
   "source": [
    "# 1. Imports"
   ]
  },
  {
   "cell_type": "code",
   "execution_count": 2,
   "metadata": {},
   "outputs": [],
   "source": [
    "import json\n",
    "\n",
    "json_filepath = \"/Users/gardy/Halyzia/output/detection/_Full_Database/full_database_for_IP/JSON_FR_database/events_info.json\"\n",
    "json_dict = json.load(open(json_filepath))"
   ]
  },
  {
   "cell_type": "markdown",
   "metadata": {},
   "source": [
    "# 2. Print first event"
   ]
  },
  {
   "cell_type": "code",
   "execution_count": 5,
   "metadata": {},
   "outputs": [
    {
     "data": {
      "text/plain": [
       "{'ID': 0,\n",
       " 'type': 'FR',\n",
       " 'patient_num': 39,\n",
       " 'chan_type': 'macro',\n",
       " 'chan_name': 'LP1-LP2',\n",
       " 'sampling_frequency': 2048.0,\n",
       " 'eventTime_inFilename_(s)': 33.25,\n",
       " 'event_duration_(s)': 0.0,\n",
       " 'extracted_signal_duration_(ms)': 400.0,\n",
       " 'scale_unit': 'uV',\n",
       " 'filename': 'sub-039_ses-MacroBipolar01_task-EPIFAR_acq-01_ieeg.edf',\n",
       " 'eventOnset_inDatabase_(ms)': None,\n",
       " 'eventEnd_inDatabase_(ms)': None,\n",
       " 'Detection_predictions': [0.9982, 0.0024],\n",
       " 'predicted_type': 'Noise',\n",
       " 'detection_method': 'automatic',\n",
       " 'type_confidence': 1}"
      ]
     },
     "execution_count": 5,
     "metadata": {},
     "output_type": "execute_result"
    }
   ],
   "source": [
    "json_dict[\"events_info\"][0]"
   ]
  },
  {
   "cell_type": "markdown",
   "metadata": {},
   "source": [
    "# 3. Count macro/micro"
   ]
  },
  {
   "cell_type": "code",
   "execution_count": 10,
   "metadata": {},
   "outputs": [
    {
     "name": "stdout",
     "output_type": "stream",
     "text": [
      "N events total 11552\n",
      "N macro total: 5529\n",
      "N micro total: 6023\n",
      "--\n",
      "N events initial db: 4953\n",
      "N macro initial db: 329\n",
      "N micro initial db: 4624\n"
     ]
    }
   ],
   "source": [
    "# Initialize variables to count the number of events\n",
    "count_macro = 0\n",
    "count_micro = 0\n",
    "\n",
    "macro_initial_db = 0\n",
    "micro_initial_db = 0\n",
    "\n",
    "\n",
    "# Loop over all events in the json file\n",
    "for event in json_dict[\"events_info\"]:\n",
    "\n",
    "    if event[\"chan_type\"] == \"macro\":\n",
    "        count_macro += 1\n",
    "    elif event[\"chan_type\"] == \"micro\":\n",
    "        count_micro += 1\n",
    "\n",
    "    if event[\"detection_method\"] == \"manual\":\n",
    "\n",
    "        if event[\"chan_type\"] == \"macro\":\n",
    "            macro_initial_db+=1\n",
    "        elif event[\"chan_type\"] == \"micro\":\n",
    "            micro_initial_db+=1\n",
    "\n",
    "# Print the results\n",
    "print(\"N events total\", len(json_dict[\"events_info\"]))\n",
    "print(\"N macro total:\", count_macro)\n",
    "print(\"N micro total:\", count_micro)\n",
    "print(\"--\")\n",
    "print(\"N events initial db:\", macro_initial_db + micro_initial_db)\n",
    "print(\"N macro initial db:\", macro_initial_db)\n",
    "print(\"N micro initial db:\", micro_initial_db)\n"
   ]
  },
  {
   "cell_type": "code",
   "execution_count": null,
   "metadata": {},
   "outputs": [],
   "source": []
  }
 ],
 "metadata": {
  "kernelspec": {
   "display_name": "ldb_pyqt6",
   "language": "python",
   "name": "python3"
  },
  "language_info": {
   "codemirror_mode": {
    "name": "ipython",
    "version": 3
   },
   "file_extension": ".py",
   "mimetype": "text/x-python",
   "name": "python",
   "nbconvert_exporter": "python",
   "pygments_lexer": "ipython3",
   "version": "3.9.12"
  }
 },
 "nbformat": 4,
 "nbformat_minor": 2
}
